{
  "nbformat": 4,
  "nbformat_minor": 0,
  "metadata": {
    "colab": {
      "provenance": [],
      "authorship_tag": "ABX9TyMisDqbs5O4U/ProfKCWPfp",
      "include_colab_link": true
    },
    "kernelspec": {
      "name": "python3",
      "display_name": "Python 3"
    },
    "language_info": {
      "name": "python"
    }
  },
  "cells": [
    {
      "cell_type": "markdown",
      "metadata": {
        "id": "view-in-github",
        "colab_type": "text"
      },
      "source": [
        "<a href=\"https://colab.research.google.com/github/AfraJamader/my-game/blob/main/Untitled3.ipynb\" target=\"_parent\"><img src=\"https://colab.research.google.com/assets/colab-badge.svg\" alt=\"Open In Colab\"/></a>"
      ]
    },
    {
      "cell_type": "code",
      "execution_count": null,
      "metadata": {
        "id": "nYozolEdz9NA"
      },
      "outputs": [],
      "source": [
        "\n",
        "name=input(\"enter your name: \")\n",
        "iteration= len(name)\n",
        "\n",
        "for i in range(0,iteration):\n",
        "  for j in range(0,iteration):\n",
        "    if i == j :\n",
        "       print(name[j],sep=\" \",end=\" \")\n",
        "    else:\n",
        "      print(\"*\",end=\" \")\n",
        "  print()\n",
        "    \n",
        "   "
      ]
    }
  ]
}